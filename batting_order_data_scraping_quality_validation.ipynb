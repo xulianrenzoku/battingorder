{
 "cells": [
  {
   "cell_type": "code",
   "execution_count": 1,
   "metadata": {
    "ExecuteTime": {
     "end_time": "2019-08-01T08:44:31.633289Z",
     "start_time": "2019-08-01T08:44:30.687870Z"
    }
   },
   "outputs": [],
   "source": [
    "import pandas as pd\n",
    "import numpy as np\n",
    "from batting_order import *\n",
    "import warnings\n",
    "warnings.filterwarnings('ignore')"
   ]
  },
  {
   "cell_type": "markdown",
   "metadata": {},
   "source": [
    "This jupyter notebook intends to check the quality of the plate appearnce stats scraping from baseball-reference's play-by-play data.  \n",
    "Validation datasets are from baseball-reference's season pages.  \n",
    "Example: https://www.baseball-reference.com/leagues/MLB/2012.shtml"
   ]
  },
  {
   "cell_type": "code",
   "execution_count": 2,
   "metadata": {
    "ExecuteTime": {
     "end_time": "2019-08-01T08:44:32.179455Z",
     "start_time": "2019-08-01T08:44:31.635744Z"
    }
   },
   "outputs": [],
   "source": [
    "# Read the data\n",
    "seasons = list(range(2011,2019))\n",
    "season_val_dict = {season:pd.read_csv(f'season_val/{season}.csv') for season in seasons}\n",
    "season_scraped_dict = {season:pd.read_csv(f'season_scraped/{season}.csv') for season in seasons}"
   ]
  },
  {
   "cell_type": "markdown",
   "metadata": {},
   "source": [
    "## Step 1: Cross-validate Scraped Data vs. Baseball-Reference's Season Page"
   ]
  },
  {
   "cell_type": "code",
   "execution_count": 3,
   "metadata": {
    "ExecuteTime": {
     "end_time": "2019-08-01T08:44:32.998065Z",
     "start_time": "2019-08-01T08:44:32.891981Z"
    }
   },
   "outputs": [
    {
     "name": "stdout",
     "output_type": "stream",
     "text": [
      "2011: 30 Teams\n",
      "Total Difference: 0\n",
      "\n",
      "2012: 30 Teams\n",
      "Total Difference: -1\n",
      "['MIL' 6224 6225 -1]\n",
      "\n",
      "2013: 30 Teams\n",
      "Total Difference: 0\n",
      "\n",
      "2014: 30 Teams\n",
      "Total Difference: 0\n",
      "\n",
      "2015: 30 Teams\n",
      "Total Difference: 0\n",
      "\n",
      "2016: 30 Teams\n",
      "Total Difference: 0\n",
      "\n",
      "2017: 30 Teams\n",
      "Total Difference: 0\n",
      "\n",
      "2018: 30 Teams\n",
      "Total Difference: 0\n",
      "\n"
     ]
    }
   ],
   "source": [
    "# Cross validate\n",
    "for season in seasons:\n",
    "    team_merge = season_scraped_dict[season].groupby(by=\"Team\")\\\n",
    "                                            .PA.sum().reset_index()\\\n",
    "                                            .merge(season_val_dict[season][[\"Tm\", 'PA']]\\\n",
    "                                            .rename(columns = {'Tm':'Team', 'PA':'PA_val'}))\n",
    "    team_merge[\"diff\"] = team_merge.PA - team_merge.PA_val\n",
    "    # Check if number of teams for each season is 30\n",
    "    print(f'{season}: {len(set(season_scraped_dict[season].Team.values))} Teams') \n",
    "    # Check if the total difference in PA for a season is 0\n",
    "    print(f'Total Difference: {team_merge[\"diff\"].sum()}')\n",
    "    # Print out teams in a year that has a non-zero difference\n",
    "    anomalies = team_merge[team_merge['diff'] != 0].values\n",
    "    if len(anomalies) != 0:\n",
    "        for anomaly in anomalies: print(anomaly)\n",
    "    print()"
   ]
  },
  {
   "cell_type": "markdown",
   "metadata": {},
   "source": [
    "## Step 2: Cross-validate Scraped Data vs. Baseball-Reference's Game Pages"
   ]
  },
  {
   "cell_type": "markdown",
   "metadata": {},
   "source": [
    "According to the results above, there are one team (2012 Milwaukee Brewers) that has a non-zero difference when cross-validating the scraped data vs. the Baseball-Reference's season page.  \n",
    "For the next step of data quality check, use scraper to get the team's total plate appearances for each game and sum it up to see if the numbers are correct."
   ]
  },
  {
   "cell_type": "code",
   "execution_count": 4,
   "metadata": {
    "ExecuteTime": {
     "end_time": "2019-08-01T08:44:45.055432Z",
     "start_time": "2019-08-01T08:44:45.051622Z"
    }
   },
   "outputs": [],
   "source": [
    "anomaly_dict = {'MIL':['2012', 'Milwaukee Brewers']}"
   ]
  },
  {
   "cell_type": "code",
   "execution_count": 5,
   "metadata": {
    "ExecuteTime": {
     "end_time": "2019-08-01T08:46:28.271541Z",
     "start_time": "2019-08-01T08:44:48.667129Z"
    }
   },
   "outputs": [
    {
     "name": "stdout",
     "output_type": "stream",
     "text": [
      "MIL 2012\n",
      "30 Games Done\n",
      "60 Games Done\n",
      "90 Games Done\n",
      "120 Games Done\n",
      "150 Games Done\n",
      "162 Games in Total\n",
      "Total PA: 6224\n",
      "\n"
     ]
    }
   ],
   "source": [
    "for key in anomaly_dict.keys():\n",
    "    season, team_title = anomaly_dict[key]\n",
    "    team_page_url = f\"https://www.baseball-reference.com/teams/{key}/{season}.shtml\"\n",
    "    game_pages = get_game_page(team_page_url)\n",
    "    sum_pa = 0\n",
    "    count = 0\n",
    "    print(f'{key} {season}')\n",
    "    for game_page in game_pages:\n",
    "        _, pa_table = get_info(game_page, team_title) \n",
    "        team_actual_pa = get_val_pa(pa_table)\n",
    "        sum_pa += team_actual_pa\n",
    "        count += 1\n",
    "        if count % 30 == 0:\n",
    "            print(f\"{count} Games Done\")\n",
    "    print(f'{count} Games in Total')\n",
    "    print(f'Total PA: {sum_pa}\\n')"
   ]
  },
  {
   "cell_type": "markdown",
   "metadata": {},
   "source": [
    "After scraping the actual plate appearances from every game page of the 2012 Milwaukee Brewers, the total PA number is 6224, which matches the scraping result from the play-by-play tables."
   ]
  }
 ],
 "metadata": {
  "kernelspec": {
   "display_name": "Python 3",
   "language": "python",
   "name": "python3"
  },
  "language_info": {
   "codemirror_mode": {
    "name": "ipython",
    "version": 3
   },
   "file_extension": ".py",
   "mimetype": "text/x-python",
   "name": "python",
   "nbconvert_exporter": "python",
   "pygments_lexer": "ipython3",
   "version": "3.6.7"
  }
 },
 "nbformat": 4,
 "nbformat_minor": 2
}
